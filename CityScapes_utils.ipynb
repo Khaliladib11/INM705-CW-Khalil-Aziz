{
 "cells": [
  {
   "cell_type": "markdown",
   "id": "cab4ed01",
   "metadata": {},
   "source": [
    "# Import Libraries"
   ]
  },
  {
   "cell_type": "code",
   "execution_count": 1,
   "id": "c75d5585",
   "metadata": {},
   "outputs": [],
   "source": [
    "import os, re\n",
    "import numpy as np\n",
    "import matplotlib.pyplot as plt\n",
    "import torch\n",
    "from PIL import Image\n",
    "import json\n",
    "\n",
    "import CityScapes_labels as labels"
   ]
  },
  {
   "cell_type": "markdown",
   "id": "0fef272b-d4d3-4f25-a914-edb57775036b",
   "metadata": {},
   "source": [
    "# Classes we want to predict"
   ]
  },
  {
   "cell_type": "code",
   "execution_count": 2,
   "id": "bee360e4",
   "metadata": {},
   "outputs": [],
   "source": [
    "# what classes do we want to predict?\n",
    "list_of_predicted_classes = ['car', 'person']\n",
    "list_of_classes = list_of_predicted_classes.insert(0, '__bgr__')\n",
    "cityscapes_to_new = {}\n",
    "new_to_cityscapes = {}"
   ]
  },
  {
   "cell_type": "code",
   "execution_count": 3,
   "id": "0dfd608d",
   "metadata": {},
   "outputs": [
    {
     "data": {
      "text/plain": [
       "['__bgr__', 'car', 'person']"
      ]
     },
     "execution_count": 3,
     "metadata": {},
     "output_type": "execute_result"
    }
   ],
   "source": [
    "list_of_predicted_classes"
   ]
  },
  {
   "cell_type": "code",
   "execution_count": 4,
   "id": "1a1e2e17",
   "metadata": {},
   "outputs": [],
   "source": [
    "# need to relabel the classes, e.g. car from class 13 becomes 1\n",
    "for idz, c in enumerate(list_of_predicted_classes[1:]):\n",
    "    assert c in labels.label2id.keys()\n",
    "    cityscapes_to_new[labels.label2id[c]] = idz + 1\n",
    "    new_to_cityscapes[idz+1] = labels.label2id[c]"
   ]
  },
  {
   "cell_type": "code",
   "execution_count": 5,
   "id": "e913a396",
   "metadata": {},
   "outputs": [
    {
     "data": {
      "text/plain": [
       "{1: 26, 2: 24}"
      ]
     },
     "execution_count": 5,
     "metadata": {},
     "output_type": "execute_result"
    }
   ],
   "source": [
    "new_to_cityscapes"
   ]
  },
  {
   "cell_type": "code",
   "execution_count": 6,
   "id": "e14ab9af",
   "metadata": {},
   "outputs": [
    {
     "data": {
      "text/plain": [
       "{26: 1, 24: 2}"
      ]
     },
     "execution_count": 6,
     "metadata": {},
     "output_type": "execute_result"
    }
   ],
   "source": [
    "cityscapes_to_new"
   ]
  },
  {
   "cell_type": "markdown",
   "id": "14d4dd4d-9297-42d5-8f62-382aff05f9ea",
   "metadata": {},
   "source": [
    "# Extract Bounding Boxes"
   ]
  },
  {
   "cell_type": "code",
   "execution_count": 7,
   "id": "e971990e",
   "metadata": {},
   "outputs": [],
   "source": [
    "def extract_bboxes_cityscapes(fname, list_of_correct_labels):    \n",
    "    with open(fname) as f:\n",
    "         cs = json.load(f)\n",
    "    objects = cs['objects']\n",
    "    classes = []\n",
    "    bboxes = []\n",
    "    # extract \n",
    "    for o in objects:\n",
    "        classlabel = o['label']\n",
    "        # avoid some labels\n",
    "        if classlabel in list_of_predicted_classes: \n",
    "            # extract the label and convert it to integer \n",
    "            classes.append([labels.label2id[o['label']]])\n",
    "            # extract the bounding box from the polygon\n",
    "            x,y = zip(*o['polygon'])\n",
    "            min_x, max_x = min(x), max(x)\n",
    "            min_y, max_y = min(y), max(y)\n",
    "            bbox = [min_x, min_y, max_x, max_y]         \n",
    "            bboxes.append(bbox)\n",
    "    #return a label: class of the object and bbox gt\n",
    "    label = {}     \n",
    "    classes = torch.tensor(classes, dtype=torch.int64)\n",
    "    label['classes'] = classes\n",
    "    label['bboxes'] = torch.tensor(bboxes, dtype=torch.float32)\n",
    "    return label"
   ]
  },
  {
   "cell_type": "code",
   "execution_count": 8,
   "id": "bcfcaea3",
   "metadata": {},
   "outputs": [],
   "source": [
    "path = '../../Datasets/CityScapes/gtFine_trainvaltest/gtFine/train/aachen/'"
   ]
  },
  {
   "cell_type": "markdown",
   "id": "dff6b603-b960-4946-92c6-6bfd115a652a",
   "metadata": {},
   "source": [
    "# Extract Masks for semantic segmentation"
   ]
  },
  {
   "cell_type": "code",
   "execution_count": 9,
   "id": "ff49f73e",
   "metadata": {},
   "outputs": [],
   "source": [
    "def extract_segmentation_mask_cityscapes(fname, list_of_predicted_labels):\n",
    "    mask = np.array(Image.open(fname))\n",
    "    # get rid of classes we don't need, convert them to background\n",
    "    for l in np.unique(mask):        \n",
    "        _l = labels.id2label[l]\n",
    "        if not _l in list_of_predicted_labels:\n",
    "            mask[mask==l]=0 \n",
    "\n",
    "    # relabel the classes so that they are consecutive, \n",
    "    # e.g. 0 for bgr, 1 for car, 2 for pedestrian, etc\n",
    "    _cl = np.unique(mask)\n",
    "    for c in _cl[1:]:\n",
    "        mask[mask==c] = cityscapes_to_new[c]\n",
    "\n",
    "    mask = torch.tensor(mask, dtype=torch.uint8) \n",
    "    return mask\n"
   ]
  },
  {
   "cell_type": "markdown",
   "id": "06ec484c-e4e7-44a0-ac0f-110eff7b5925",
   "metadata": {},
   "source": [
    "# Extract Masks for Instance Segmentation"
   ]
  },
  {
   "cell_type": "code",
   "execution_count": 10,
   "id": "995f7d39",
   "metadata": {},
   "outputs": [],
   "source": [
    "# this must point to an instance mask, e.g. aachen_000096_000019_gtFine_instanceIds.png\n",
    "# this will return a full image mask with all non-selected classes=0\n",
    "# for mask prediction you should add the code here that identifies classes of objects\n",
    "# you can add code here to extract bboxes\n",
    "def extract_instance_mask_cityscapes(fname, list_of_predicted_labels):\n",
    "    mask = torch.tensor(np.array(Image.open(fname)), dtype=torch.uint8)\n",
    "    # get segmentation mask to find which classes to get rid of\n",
    "    _fname_segment = re.sub('instanceIds', 'labelIds', fname)\n",
    "    _mask_segmentation = extract_segmentation_mask_cityscapes(_fname_segment, list_of_predicted_labels)\n",
    "    plt.imshow(_mask_segmentation)\n",
    "    # get rid of all instances except the predicted\n",
    "    mask_instances_bgr = mask*_mask_segmentation\n",
    "    plt.imshow(mask_instances_bgr)\n",
    "    _instances = np.unique(mask_instances_bgr)\n",
    "    print(_instances)\n",
    "    list_of_masks = []\n",
    "    for  _m in _instances[1:]:\n",
    "        _mask = torch.zeros(mask.shape, dtype = torch.uint8)\n",
    "        _mask[mask_instances_bgr == _m] = 1\n",
    "        #plt.imshow(_mask)\n",
    "        #plt.show()    \n",
    "        list_of_masks.append(_mask)\n",
    "\n",
    "    return list_of_masks\n"
   ]
  },
  {
   "cell_type": "code",
   "execution_count": 11,
   "id": "d6fc9dec",
   "metadata": {},
   "outputs": [
    {
     "name": "stdout",
     "output_type": "stream",
     "text": [
      "[  0 128 130 147 148 149 150 151 152 153 154]\n"
     ]
    },
    {
     "data": {
      "image/png": "[encoded data removed]",
      "text/plain": [
       "<Figure size 432x288 with 1 Axes>"
      ]
     },
     "metadata": {
      "needs_background": "light"
     },
     "output_type": "display_data"
    }
   ],
   "source": [
    "masks = extract_instance_mask_cityscapes(path+\"aachen_000000_000019_gtFine_instanceIds.png\", list_of_predicted_classes)"
   ]
  },
  {
   "cell_type": "code",
   "execution_count": 12,
   "id": "7c8be424-01c3-4441-a901-d07d4d638bcf",
   "metadata": {},
   "outputs": [
    {
     "data": {
      "image/png": "[encoded data removed]",
      "text/plain": [
       "<Figure size 432x288 with 1 Axes>"
      ]
     },
     "metadata": {
      "needs_background": "light"
     },
     "output_type": "display_data"
    },
    {
     "data": {
      "image/png": "[encoded data removed]",
      "text/plain": [
       "<Figure size 432x288 with 1 Axes>"
      ]
     },
     "metadata": {
      "needs_background": "light"
     },
     "output_type": "display_data"
    },
    {
     "data": {
      "image/png": "[encoded data removed]",
      "text/plain": [
       "<Figure size 432x288 with 1 Axes>"
      ]
     },
     "metadata": {
      "needs_background": "light"
     },
     "output_type": "display_data"
    },
    {
     "data": {
      "image/png": "[encoded data removed]",
      "text/plain": [
       "<Figure size 432x288 with 1 Axes>"
      ]
     },
     "metadata": {
      "needs_background": "light"
     },
     "output_type": "display_data"
    },
    {
     "data": {
      "image/png": "[encoded data removed]",
      "text/plain": [
       "<Figure size 432x288 with 1 Axes>"
      ]
     },
     "metadata": {
      "needs_background": "light"
     },
     "output_type": "display_data"
    },
    {
     "data": {
      "image/png": "[encoded data removed]",
      "text/plain": [
       "<Figure size 432x288 with 1 Axes>"
      ]
     },
     "metadata": {
      "needs_background": "light"
     },
     "output_type": "display_data"
    },
    {
     "data": {
      "image/png": "[encoded data removed]",
      "text/plain": [
       "<Figure size 432x288 with 1 Axes>"
      ]
     },
     "metadata": {
      "needs_background": "light"
     },
     "output_type": "display_data"
    },
    {
     "data": {
      "image/png": "[encoded data removed]",
      "text/plain": [
       "<Figure size 432x288 with 1 Axes>"
      ]
     },
     "metadata": {
      "needs_background": "light"
     },
     "output_type": "display_data"
    },
    {
     "data": {
      "image/png": "[encoded data removed]",
      "text/plain": [
       "<Figure size 432x288 with 1 Axes>"
      ]
     },
     "metadata": {
      "needs_background": "light"
     },
     "output_type": "display_data"
    },
    {
     "data": {
      "image/png": "[encoded data removed]",
      "text/plain": [
       "<Figure size 432x288 with 1 Axes>"
      ]
     },
     "metadata": {
      "needs_background": "light"
     },
     "output_type": "display_data"
    }
   ],
   "source": [
    "for mask in masks:\n",
    "    plt.imshow(mask)\n",
    "    plt.show()"
   ]
  }
 ],
 "metadata": {
  "kernelspec": {
   "display_name": "Python [conda env:ailab] *",
   "language": "python",
   "name": "conda-env-ailab-py"
  },
  "language_info": {
   "codemirror_mode": {
    "name": "ipython",
    "version": 3
   },
   "file_extension": ".py",
   "mimetype": "text/x-python",
   "name": "python",
   "nbconvert_exporter": "python",
   "pygments_lexer": "ipython3",
   "version": "3.7.11"
  }
 },
 "nbformat": 4,
 "nbformat_minor": 5
}
