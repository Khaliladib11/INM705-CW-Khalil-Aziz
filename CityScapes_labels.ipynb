{
 "cells": [
  {
   "cell_type": "code",
   "execution_count": 1,
   "id": "d3df856b",
   "metadata": {},
   "outputs": [],
   "source": [
    "from collections import namedtuple"
   ]
  },
  {
   "cell_type": "code",
   "execution_count": 4,
   "id": "312c3f72",
   "metadata": {},
   "outputs": [],
   "source": [
    "Label = namedtuple( 'Label' , [\n",
    "\n",
    "    'name'        , # The identifier of this label, e.g. 'car', 'person', ... .\n",
    "                    # We use them to uniquely name a class\n",
    "\n",
    "    'id'          , # An integer ID that is associated with this label.\n",
    "                    # The IDs are used to represent the label in ground truth images\n",
    "                    # An ID of -1 means that this label does not have an ID and thus\n",
    "                    # is ignored when creating ground truth images (e.g. license plate).\n",
    "                    # Do not modify these IDs, since exactly these IDs are expected by the\n",
    "                    # evaluation server.\n",
    "\n",
    "    'trainId'     , # Feel free to modify these IDs as suitable for your method. Then create\n",
    "                    # ground truth images with train IDs, using the tools provided in the\n",
    "                    # 'preparation' folder. However, make sure to validate or submit results\n",
    "                    # to our evaluation server using the regular IDs above!\n",
    "                    # For trainIds, multiple labels might have the same ID. Then, these labels\n",
    "                    # are mapped to the same class in the ground truth images. For the inverse\n",
    "                    # mapping, we use the label that is defined first in the list below.\n",
    "                    # For example, mapping all void-type classes to the same ID in training,\n",
    "                    # might make sense for some approaches.\n",
    "                    # Max value is 255!\n",
    "\n",
    "    'category'    , # The name of the category that this label belongs to\n",
    "\n",
    "    'categoryId'  , # The ID of this category. Used to create ground truth images\n",
    "                    # on category level.\n",
    "\n",
    "    'hasInstances', # Whether this label distinguishes between single instances or not\n",
    "\n",
    "    'ignoreInEval', # Whether pixels having this class as ground truth label are ignored\n",
    "                    # during evaluations or not\n",
    "\n",
    "    'color'       , # The color of this label\n",
    "    ] )"
   ]
  },
  {
   "cell_type": "code",
   "execution_count": 6,
   "id": "5d15625f",
   "metadata": {},
   "outputs": [],
   "source": [
    "labels = [\n",
    "    #       name                     id    trainId   category            catId     hasInstances   ignoreInEval   color\n",
    "    Label(  'unlabeled'            ,  0 ,      255 , 'void'            , 0       , False        , True         , (  0,  0,  0) ),\n",
    "    Label(  'ego vehicle'          ,  1 ,      255 , 'void'            , 0       , False        , True         , (  0,  0,  0) ),\n",
    "    Label(  'rectification border' ,  2 ,      255 , 'void'            , 0       , False        , True         , (  0,  0,  0) ),\n",
    "    Label(  'out of roi'           ,  3 ,      255 , 'void'            , 0       , False        , True         , (  0,  0,  0) ),\n",
    "    Label(  'static'               ,  4 ,      255 , 'void'            , 0       , False        , True         , (  0,  0,  0) ),\n",
    "    Label(  'dynamic'              ,  5 ,      255 , 'void'            , 0       , False        , True         , (111, 74,  0) ),\n",
    "    Label(  'ground'               ,  6 ,      255 , 'void'            , 0       , False        , True         , ( 81,  0, 81) ),\n",
    "    Label(  'road'                 ,  7 ,        0 , 'flat'            , 1       , False        , False        , (128, 64,128) ),\n",
    "    Label(  'sidewalk'             ,  8 ,        1 , 'flat'            , 1       , False        , False        , (244, 35,232) ),\n",
    "    Label(  'parking'              ,  9 ,      255 , 'flat'            , 1       , False        , True         , (250,170,160) ),\n",
    "    Label(  'rail track'           , 10 ,      255 , 'flat'            , 1       , False        , True         , (230,150,140) ),\n",
    "    Label(  'building'             , 11 ,        2 , 'construction'    , 2       , False        , False        , ( 70, 70, 70) ),\n",
    "    Label(  'wall'                 , 12 ,        3 , 'construction'    , 2       , False        , False        , (102,102,156) ),\n",
    "    Label(  'fence'                , 13 ,        4 , 'construction'    , 2       , False        , False        , (190,153,153) ),\n",
    "    Label(  'guard rail'           , 14 ,      255 , 'construction'    , 2       , False        , True         , (180,165,180) ),\n",
    "    Label(  'bridge'               , 15 ,      255 , 'construction'    , 2       , False        , True         , (150,100,100) ),\n",
    "    Label(  'tunnel'               , 16 ,      255 , 'construction'    , 2       , False        , True         , (150,120, 90) ),\n",
    "    Label(  'pole'                 , 17 ,        5 , 'object'          , 3       , False        , False        , (153,153,153) ),\n",
    "    Label(  'polegroup'            , 18 ,      255 , 'object'          , 3       , False        , True         , (153,153,153) ),\n",
    "    Label(  'traffic light'        , 19 ,        6 , 'object'          , 3       , False        , False        , (250,170, 30) ),\n",
    "    Label(  'traffic sign'         , 20 ,        7 , 'object'          , 3       , False        , False        , (220,220,  0) ),\n",
    "    Label(  'vegetation'           , 21 ,        8 , 'nature'          , 4       , False        , False        , (107,142, 35) ),\n",
    "    Label(  'terrain'              , 22 ,        9 , 'nature'          , 4       , False        , False        , (152,251,152) ),\n",
    "    Label(  'sky'                  , 23 ,       10 , 'sky'             , 5       , False        , False        , ( 70,130,180) ),\n",
    "    Label(  'person'               , 24 ,       11 , 'human'           , 6       , True         , False        , (220, 20, 60) ),\n",
    "    Label(  'rider'                , 25 ,       12 , 'human'           , 6       , True         , False        , (255,  0,  0) ),\n",
    "    Label(  'car'                  , 26 ,       13 , 'vehicle'         , 7       , True         , False        , (  0,  0,142) ),\n",
    "    Label(  'truck'                , 27 ,       14 , 'vehicle'         , 7       , True         , False        , (  0,  0, 70) ),\n",
    "    Label(  'bus'                  , 28 ,       15 , 'vehicle'         , 7       , True         , False        , (  0, 60,100) ),\n",
    "    Label(  'caravan'              , 29 ,      255 , 'vehicle'         , 7       , True         , True         , (  0,  0, 90) ),\n",
    "    Label(  'trailer'              , 30 ,      255 , 'vehicle'         , 7       , True         , True         , (  0,  0,110) ),\n",
    "    Label(  'train'                , 31 ,       16 , 'vehicle'         , 7       , True         , False        , (  0, 80,100) ),\n",
    "    Label(  'motorcycle'           , 32 ,       17 , 'vehicle'         , 7       , True         , False        , (  0,  0,230) ),\n",
    "    Label(  'bicycle'              , 33 ,       18 , 'vehicle'         , 7       , True         , False        , (119, 11, 32) ),\n",
    "    Label(  'license plate'        , -1 ,       -1 , 'vehicle'         , 7       , False        , True         , (  0,  0,142) ),\n",
    "]\n"
   ]
  },
  {
   "cell_type": "code",
   "execution_count": 7,
   "id": "6ecadf8f",
   "metadata": {},
   "outputs": [],
   "source": [
    "# this returns a dictionary classname:classid, string:integer\n",
    "label2id        = { label.name      : label.id for label in labels           }\n",
    "id2label        = { label.id        : label.name for label in labels         }"
   ]
  },
  {
   "cell_type": "code",
   "execution_count": 8,
   "id": "133a2db5",
   "metadata": {},
   "outputs": [
    {
     "data": {
      "text/plain": [
       "{'unlabeled': 0,\n",
       " 'ego vehicle': 1,\n",
       " 'rectification border': 2,\n",
       " 'out of roi': 3,\n",
       " 'static': 4,\n",
       " 'dynamic': 5,\n",
       " 'ground': 6,\n",
       " 'road': 7,\n",
       " 'sidewalk': 8,\n",
       " 'parking': 9,\n",
       " 'rail track': 10,\n",
       " 'building': 11,\n",
       " 'wall': 12,\n",
       " 'fence': 13,\n",
       " 'guard rail': 14,\n",
       " 'bridge': 15,\n",
       " 'tunnel': 16,\n",
       " 'pole': 17,\n",
       " 'polegroup': 18,\n",
       " 'traffic light': 19,\n",
       " 'traffic sign': 20,\n",
       " 'vegetation': 21,\n",
       " 'terrain': 22,\n",
       " 'sky': 23,\n",
       " 'person': 24,\n",
       " 'rider': 25,\n",
       " 'car': 26,\n",
       " 'truck': 27,\n",
       " 'bus': 28,\n",
       " 'caravan': 29,\n",
       " 'trailer': 30,\n",
       " 'train': 31,\n",
       " 'motorcycle': 32,\n",
       " 'bicycle': 33,\n",
       " 'license plate': -1}"
      ]
     },
     "execution_count": 8,
     "metadata": {},
     "output_type": "execute_result"
    }
   ],
   "source": [
    "label2id"
   ]
  },
  {
   "cell_type": "code",
   "execution_count": 9,
   "id": "60064440",
   "metadata": {},
   "outputs": [
    {
     "data": {
      "text/plain": [
       "{0: 'unlabeled',\n",
       " 1: 'ego vehicle',\n",
       " 2: 'rectification border',\n",
       " 3: 'out of roi',\n",
       " 4: 'static',\n",
       " 5: 'dynamic',\n",
       " 6: 'ground',\n",
       " 7: 'road',\n",
       " 8: 'sidewalk',\n",
       " 9: 'parking',\n",
       " 10: 'rail track',\n",
       " 11: 'building',\n",
       " 12: 'wall',\n",
       " 13: 'fence',\n",
       " 14: 'guard rail',\n",
       " 15: 'bridge',\n",
       " 16: 'tunnel',\n",
       " 17: 'pole',\n",
       " 18: 'polegroup',\n",
       " 19: 'traffic light',\n",
       " 20: 'traffic sign',\n",
       " 21: 'vegetation',\n",
       " 22: 'terrain',\n",
       " 23: 'sky',\n",
       " 24: 'person',\n",
       " 25: 'rider',\n",
       " 26: 'car',\n",
       " 27: 'truck',\n",
       " 28: 'bus',\n",
       " 29: 'caravan',\n",
       " 30: 'trailer',\n",
       " 31: 'train',\n",
       " 32: 'motorcycle',\n",
       " 33: 'bicycle',\n",
       " -1: 'license plate'}"
      ]
     },
     "execution_count": 9,
     "metadata": {},
     "output_type": "execute_result"
    }
   ],
   "source": [
    "id2label"
   ]
  }
 ],
 "metadata": {
  "kernelspec": {
   "display_name": "Python [conda env:ailab] *",
   "language": "python",
   "name": "conda-env-ailab-py"
  },
  "language_info": {
   "codemirror_mode": {
    "name": "ipython",
    "version": 3
   },
   "file_extension": ".py",
   "mimetype": "text/x-python",
   "name": "python",
   "nbconvert_exporter": "python",
   "pygments_lexer": "ipython3",
   "version": "3.7.11"
  }
 },
 "nbformat": 4,
 "nbformat_minor": 5
}
