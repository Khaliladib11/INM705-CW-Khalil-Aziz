{
 "cells": [
  {
   "cell_type": "markdown",
   "id": "9ff5c475",
   "metadata": {},
   "source": [
    "# Import Libraries"
   ]
  },
  {
   "cell_type": "code",
   "execution_count": 1,
   "id": "2b757731",
   "metadata": {},
   "outputs": [],
   "source": [
    "import os\n",
    "import sys\n",
    "\n",
    "import numpy as np\n",
    "import matplotlib.pyplot as plt\n",
    "\n",
    "import torch\n",
    "from torch.utils import data\n",
    "from torchvision import transforms\n",
    "\n",
    "from PIL import Image\n",
    "from skimage.measure import label, regionprops\n",
    "\n",
    "import xml.etree.ElementTree as ET"
   ]
  },
  {
   "cell_type": "markdown",
   "id": "df31ec13",
   "metadata": {},
   "source": [
    "# Interface Class"
   ]
  },
  {
   "cell_type": "code",
   "execution_count": 61,
   "id": "f5697821",
   "metadata": {},
   "outputs": [],
   "source": [
    "class CityScapesInterface(data.Dataset):\n",
    "    \n",
    "    # constructor\n",
    "    def __init__(self, root_path, gt_path):\n",
    "        self.root_path = root_path\n",
    "        self.gt_path = gt_path\n",
    "        \n",
    "        self.citynames = os.listdir(self.root_path)\n",
    "        self.imgs = self.load_imgs()\n",
    "        self.imgs_label = self.load_label_imgs()\n",
    "        \n",
    "        \n",
    "    # load images file names\n",
    "    def load_imgs(self):\n",
    "        imgs = []\n",
    "        for city in self.citynames:\n",
    "            city_imgs = os.listdir(os.path.join(root_path, city))\n",
    "            imgs.extend(city_imgs)\n",
    "        \n",
    "        return imgs\n",
    "    \n",
    "    \n",
    "    # load label images file names\n",
    "    def load_label_imgs(self):\n",
    "        label_imgs = []\n",
    "        for i in range(len(self.imgs)):\n",
    "            img_file_name = self.get_label_file_name(i)\n",
    "            label_imgs.append(img_file_name)\n",
    "        \n",
    "        return label_imgs\n",
    "    \n",
    "    \n",
    "    # get the label file name for an img\n",
    "    def get_label_file_name(self, idx):\n",
    "        img_file_name = self.imgs[idx].split('_')\n",
    "        img_label_file = img_file_name[0]+'_'+img_file_name[1]+'_'+img_file_name[2]+'_gtFine_color.png'\n",
    "        return img_label_file\n",
    "    \n",
    "    \n",
    "    \n",
    "    # return the number of images\n",
    "    def __len__(self):\n",
    "        return len(self.imgs)\n",
    "    \n",
    "    # get item\n",
    "    def __getitem(self, idx):\n",
    "        pass"
   ]
  },
  {
   "cell_type": "code",
   "execution_count": 62,
   "id": "91394622",
   "metadata": {},
   "outputs": [],
   "source": [
    "root_path = '../../Datasets/leftImg8bit_trainvaltest/leftImg8bit/train'\n",
    "gt_path = '../../Datasets/CityScapes/gtFine_trainvaltest/gtFine/train'"
   ]
  },
  {
   "cell_type": "code",
   "execution_count": 63,
   "id": "ce46ec00",
   "metadata": {},
   "outputs": [],
   "source": [
    "interface = CityScapesInterface(root_path, gt_path)"
   ]
  }
 ],
 "metadata": {
  "kernelspec": {
   "display_name": "Python [conda env:ailab] *",
   "language": "python",
   "name": "conda-env-ailab-py"
  },
  "language_info": {
   "codemirror_mode": {
    "name": "ipython",
    "version": 3
   },
   "file_extension": ".py",
   "mimetype": "text/x-python",
   "name": "python",
   "nbconvert_exporter": "python",
   "pygments_lexer": "ipython3",
   "version": "3.7.11"
  }
 },
 "nbformat": 4,
 "nbformat_minor": 5
}
