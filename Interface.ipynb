{
 "cells": [
  {
   "cell_type": "markdown",
   "id": "9ff5c475",
   "metadata": {},
   "source": [
    "# Import Libraries"
   ]
  },
  {
   "cell_type": "code",
   "execution_count": 1,
   "id": "2b757731",
   "metadata": {},
   "outputs": [],
   "source": [
    "import sys, os, re\n",
    "\n",
    "import numpy as np\n",
    "import matplotlib.pyplot as plt\n",
    "\n",
    "import torch\n",
    "from torch.utils import data\n",
    "from torchvision import transforms\n",
    "\n",
    "from PIL import Image\n",
    "import json\n",
    "import CityScapes_labels as labels\n"
   ]
  },
  {
   "cell_type": "markdown",
   "id": "df31ec13",
   "metadata": {},
   "source": [
    "# Interface Class"
   ]
  },
  {
   "cell_type": "code",
   "execution_count": 2,
   "id": "f5697821",
   "metadata": {},
   "outputs": [],
   "source": [
    "class CityScapesInterface(data.Dataset):\n",
    "    \n",
    "    # constructor\n",
    "    def __init__(self, img_path, gt_path, list_of_classes, label2id, id2label):\n",
    "        self.img_path = img_path\n",
    "        self.gt_path = gt_path\n",
    "        \n",
    "        self.citynames = os.listdir(self.img_path)\n",
    "        self.imgs = self.load_imgs()\n",
    "        self.list_of_classes = list_of_classes\n",
    "        self.label2id = label2id\n",
    "        self.id2label = id2label\n",
    "        self.create_classes_helper()\n",
    "        #self.semantic_masks = self.__get_semantic_mask()\n",
    "        #self.json_files = self.__get_json_files()\n",
    "        \n",
    "        \n",
    "    \n",
    "    def create_classes_helper(self):\n",
    "        self.class_to_idx = {}\n",
    "        self.idx_to_class = {}\n",
    "        for idz, c in enumerate(self.list_of_classes[1:]):\n",
    "            assert c in self.label2id.keys()\n",
    "            self.class_to_idx[self.label2id[c]] = idz + 1\n",
    "            self.idx_to_class[idz+1] = self.label2id[c]\n",
    "        \n",
    "    # load images file names\n",
    "    def load_imgs(self):\n",
    "        imgs = []\n",
    "        for city in self.citynames:\n",
    "            city_imgs = os.listdir(os.path.join(self.img_path, city))\n",
    "            imgs.extend(city_imgs)\n",
    "        \n",
    "        return imgs\n",
    "        \n",
    "    \n",
    "       \n",
    "    def __get_semantic_mask(self, idx):\n",
    "        semantic_masks_files = []\n",
    "        for img in range(len(self.imgs)):\n",
    "            semantic_masks_file = self.imgs[idx].split('_')\n",
    "            semantic_masks_file = semantic_masks_file[0]+'_'+semantic_masks_file[1]+'_'+semantic_masks_file[2]+'_labelIds.png'\n",
    "            semantic_masks_files.append(semantic_masks_file)\n",
    "            \n",
    "        return semantic_masks_files\n",
    "    \n",
    "    \n",
    "    # method to get json path\n",
    "    def _get_json_path(self, idx):\n",
    "        json_file = self.imgs[idx].split('_')\n",
    "        city_name = json_file[0]\n",
    "        json_file = json_file[0] + '_' + json_file[1] + '_' + json_file[2] + '_gtFine_polygons.json'\n",
    "        json_file = os.path.join(self.gt_path, city_name, json_file)\n",
    "        return json_file\n",
    "    \n",
    "\n",
    "    # method to get the semantic image path\n",
    "    def _get_semantic_path(self, idx):\n",
    "        json_file = self.imgs[idx].split('_')\n",
    "        city_name = json_file[0]\n",
    "        json_file = json_file[0] + '_' + json_file[1] + '_' + json_file[2] + '_gtFine_labelIds.png'\n",
    "        json_file = os.path.join(self.gt_path, city_name, json_file)\n",
    "        return json_file\n",
    "    \n",
    "    # method to get the instance image path\n",
    "    def _get_instance_path(self, idx):\n",
    "        json_file = self.imgs[idx].split('_')\n",
    "        city_name = json_file[0]\n",
    "        json_file = json_file[0] + '_' + json_file[1] + '_' + json_file[2] + '_gtFine_instanceIds.png'\n",
    "        json_file = os.path.join(self.gt_path, city_name, json_file)\n",
    "        return json_file\n",
    "\n",
    "    \n",
    "    # Get Bounding boxes\n",
    "    def bounding_boxes(self, idx):\n",
    "        file_name = self._get_json_path(idx)\n",
    "        bbox_json = open(file_name)\n",
    "        data = json.load(bbox_json)\n",
    "        objects = data['objects']\n",
    "        list_of_objects = []\n",
    "        bboxes = []\n",
    "        for obj in objects:\n",
    "            #print(obj)\n",
    "            if obj['label'] in self.list_of_classes[1:]:\n",
    "                #print(obj)\n",
    "                list_of_objects.append(self.label2id[obj['label']])\n",
    "                x,y = zip(*obj['polygon'])\n",
    "                min_x, max_x = min(x), max(x)\n",
    "                min_y, max_y = min(y), max(y)\n",
    "                bbox = [min_x, min_y, max_x, max_y]         \n",
    "                bboxes.append(bbox)\n",
    "\n",
    "        label = {}\n",
    "        classes = torch.tensor(list_of_objects, dtype=torch.int64)\n",
    "        label['classes'] = classes\n",
    "        label['bboxes'] = torch.tensor(bboxes, dtype=torch.float32)\n",
    "\n",
    "        return label\n",
    "    \n",
    "    # get semantic segmantation mask\n",
    "    def semantic_mask(self, idx):\n",
    "        file_name = self._get_semantic_path(idx)\n",
    "        mask = np.array(Image.open(file_name))\n",
    "        unique_values = np.unique(mask)\n",
    "        for label in unique_values:\n",
    "            _l = self.id2label[label]\n",
    "\n",
    "            if not _l in self.list_of_classes:\n",
    "                mask[mask==label]=0\n",
    "\n",
    "        unique_values = np.unique(mask)\n",
    "        for value in unique_values[1:]:\n",
    "            mask[mask==value] = self.class_to_idx[value]\n",
    "\n",
    "        mask = torch.tensor(mask, dtype=torch.uint8) \n",
    "        return mask\n",
    "    \n",
    "    \n",
    "    # method to get instance segmantation mask\n",
    "    def instance_masks(self, idx):\n",
    "        file_name_instance = self._get_instance_path(idx)\n",
    "        mask = torch.tensor(np.array(Image.open(file_name_instance)), dtype=torch.uint8)\n",
    "\n",
    "        _mask_segmentation = self.semantic_mask(idx)\n",
    "        #plt.imshow(_mask_segmentation)\n",
    "\n",
    "        dict_values = dict()\n",
    "        _instance_mask = mask*_mask_segmentation\n",
    "        for ins in np.unique(_mask_segmentation)[1:]:\n",
    "            y = _mask_segmentation.clone()\n",
    "            y[y!=ins] = 0\n",
    "            _mask = mask*y\n",
    "            for pixel in np.unique(_mask)[1:]:\n",
    "                dict_values[pixel] = ins\n",
    "            #print(len(segmented_masks_list))\n",
    "            #print(ins, ' ', list_of_classes[ins])\n",
    "\n",
    "        _instances = np.unique(_instance_mask)\n",
    "        list_of_masks = []\n",
    "        for _m in _instances[1:]:\n",
    "            _mask = torch.zeros(mask.shape, dtype = torch.uint8)\n",
    "            #print(_m, ' ',list_of_classes[dict_values[_m]])\n",
    "            _mask[_instance_mask == _m] = dict_values[_m]\n",
    "            #plt.imshow(_mask)\n",
    "            #plt.show()    \n",
    "            list_of_masks.append(_mask)\n",
    "    \n",
    "        return list_of_masks\n",
    "    \n",
    "    \n",
    "    # return the number of images\n",
    "    def __len__(self):\n",
    "        return len(self.imgs)\n",
    "    \n",
    "    # get item\n",
    "    def __getitem(self, idx):\n",
    "        pass"
   ]
  },
  {
   "cell_type": "code",
   "execution_count": 3,
   "id": "91394622",
   "metadata": {},
   "outputs": [],
   "source": [
    "img_path = '../../Datasets/leftImg8bit_trainvaltest/leftImg8bit/train'\n",
    "gt_path = '../../Datasets/CityScapes/gtFine_trainvaltest/gtFine/train'\n",
    "list_of_classes = ['__bgr__', 'car', 'person']"
   ]
  },
  {
   "cell_type": "code",
   "execution_count": 4,
   "id": "ce46ec00",
   "metadata": {},
   "outputs": [],
   "source": [
    "interface = CityScapesInterface(img_path, gt_path, list_of_classes, labels.label2id, labels.id2label)"
   ]
  },
  {
   "cell_type": "code",
   "execution_count": 5,
   "id": "5e52a831",
   "metadata": {},
   "outputs": [],
   "source": [
    "bboxes = interface.bounding_boxes(1)"
   ]
  },
  {
   "cell_type": "code",
   "execution_count": 6,
   "id": "909b8ccb",
   "metadata": {},
   "outputs": [],
   "source": [
    "semantic_masks = interface.semantic_mask(55)"
   ]
  },
  {
   "cell_type": "code",
   "execution_count": 7,
   "id": "65111222",
   "metadata": {},
   "outputs": [
    {
     "data": {
      "text/plain": [
       "array([0, 1, 2], dtype=uint8)"
      ]
     },
     "execution_count": 7,
     "metadata": {},
     "output_type": "execute_result"
    }
   ],
   "source": [
    "np.unique(semantic_masks)"
   ]
  },
  {
   "cell_type": "code",
   "execution_count": 8,
   "id": "0b556996",
   "metadata": {},
   "outputs": [
    {
     "data": {
      "text/plain": [
       "<matplotlib.image.AxesImage at 0x270f9b382c8>"
      ]
     },
     "execution_count": 8,
     "metadata": {},
     "output_type": "execute_result"
    },
    {
     "data": {
      "image/png": "[encoded data removed]",
      "text/plain": [
       "<Figure size 432x288 with 1 Axes>"
      ]
     },
     "metadata": {
      "needs_background": "light"
     },
     "output_type": "display_data"
    }
   ],
   "source": [
    "plt.imshow(semantic_masks)"
   ]
  },
  {
   "cell_type": "code",
   "execution_count": 9,
   "id": "ca52ade5",
   "metadata": {},
   "outputs": [],
   "source": [
    "instance_masks = interface.instance_masks(0)"
   ]
  },
  {
   "cell_type": "code",
   "execution_count": null,
   "id": "e1a30117",
   "metadata": {},
   "outputs": [
    {
     "name": "stdout",
     "output_type": "stream",
     "text": [
      "person\n"
     ]
    },
    {
     "data": {
      "image/png": "[encoded data removed]",
      "text/plain": [
       "<Figure size 432x288 with 1 Axes>"
      ]
     },
     "metadata": {
      "needs_background": "light"
     },
     "output_type": "display_data"
    },
    {
     "name": "stdout",
     "output_type": "stream",
     "text": [
      "person\n"
     ]
    },
    {
     "data": {
      "image/png": "[encoded data removed]",
      "text/plain": [
       "<Figure size 432x288 with 1 Axes>"
      ]
     },
     "metadata": {
      "needs_background": "light"
     },
     "output_type": "display_data"
    },
    {
     "name": "stdout",
     "output_type": "stream",
     "text": [
      "car\n"
     ]
    },
    {
     "data": {
      "image/png": "[encoded data removed]",
      "text/plain": [
       "<Figure size 432x288 with 1 Axes>"
      ]
     },
     "metadata": {
      "needs_background": "light"
     },
     "output_type": "display_data"
    },
    {
     "name": "stdout",
     "output_type": "stream",
     "text": [
      "car\n"
     ]
    },
    {
     "data": {
      "image/png": "[encoded data removed]",
      "text/plain": [
       "<Figure size 432x288 with 1 Axes>"
      ]
     },
     "metadata": {
      "needs_background": "light"
     },
     "output_type": "display_data"
    },
    {
     "name": "stdout",
     "output_type": "stream",
     "text": [
      "car\n"
     ]
    },
    {
     "data": {
      "image/png": "[encoded data removed]",
      "text/plain": [
       "<Figure size 432x288 with 1 Axes>"
      ]
     },
     "metadata": {
      "needs_background": "light"
     },
     "output_type": "display_data"
    },
    {
     "name": "stdout",
     "output_type": "stream",
     "text": [
      "car\n"
     ]
    },
    {
     "data": {
      "image/png": "[encoded data removed]",
      "text/plain": [
       "<Figure size 432x288 with 1 Axes>"
      ]
     },
     "metadata": {
      "needs_background": "light"
     },
     "output_type": "display_data"
    },
    {
     "name": "stdout",
     "output_type": "stream",
     "text": [
      "car\n"
     ]
    },
    {
     "data": {
      "image/png": "[encoded data removed]",
      "text/plain": [
       "<Figure size 432x288 with 1 Axes>"
      ]
     },
     "metadata": {
      "needs_background": "light"
     },
     "output_type": "display_data"
    },
    {
     "name": "stdout",
     "output_type": "stream",
     "text": [
      "car\n"
     ]
    },
    {
     "data": {
      "image/png": "[encoded data removed]",
      "text/plain": [
       "<Figure size 432x288 with 1 Axes>"
      ]
     },
     "metadata": {
      "needs_background": "light"
     },
     "output_type": "display_data"
    }
   ],
   "source": [
    "for mask in instance_masks:\n",
    "    print(interface.list_of_classes[np.unique(mask)[1:][0]])\n",
    "    plt.imshow(mask)\n",
    "    plt.show()"
   ]
  }
 ],
 "metadata": {
  "kernelspec": {
   "display_name": "Python [conda env:ailab] *",
   "language": "python",
   "name": "conda-env-ailab-py"
  },
  "language_info": {
   "codemirror_mode": {
    "name": "ipython",
    "version": 3
   },
   "file_extension": ".py",
   "mimetype": "text/x-python",
   "name": "python",
   "nbconvert_exporter": "python",
   "pygments_lexer": "ipython3",
   "version": "3.7.11"
  }
 },
 "nbformat": 4,
 "nbformat_minor": 5
}
