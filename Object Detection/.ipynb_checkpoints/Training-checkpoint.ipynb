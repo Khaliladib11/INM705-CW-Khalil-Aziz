{
 "cells": [
  {
   "cell_type": "code",
   "execution_count": 1,
   "id": "921647ea",
   "metadata": {},
   "outputs": [],
   "source": [
    "from MSCOCO import MSCOCO\n",
    "from utils import *\n",
    "from torch.utils import data"
   ]
  },
  {
   "cell_type": "code",
   "execution_count": 2,
   "id": "8e0250b2",
   "metadata": {},
   "outputs": [],
   "source": [
    "coco_classes, coco_object_categories = load_coco_classes('./mscoco_labels.txt')"
   ]
  },
  {
   "cell_type": "code",
   "execution_count": 3,
   "id": "c4219a28",
   "metadata": {},
   "outputs": [],
   "source": [
    "root_path = '../../../Datasets/MS COCO'\n",
    "json_annotations = './json files/train_annotation.json'\n",
    "target_classes = ['__bgr__', 'person', 'car']\n",
    "\n",
    "train_interface_params = {\n",
    "    'root_path': root_path,\n",
    "    'list_of_classes': coco_classes,\n",
    "    'target_classes': target_classes,\n",
    "    'stage': 'train', \n",
    "    'annotation_json_path': json_annotations\n",
    "}\n",
    "\n",
    "train_interface = MSCOCO(**train_interface_params)\n",
    "\n",
    "val_interface_params = {\n",
    "    'root_path': root_path,\n",
    "    'list_of_classes': coco_classes,\n",
    "    'target_classes': target_classes,\n",
    "    'stage': 'train', \n",
    "    'annotation_json_path': json_annotations\n",
    "}\n",
    "\n",
    "val_interface = MSCOCO(**val_interface_params)\n",
    "\n",
    "\n",
    "train_dataloader_args = {'batch_size':1, 'shuffle':True}\n",
    "train_dataloader = data.DataLoader(train_interface, **train_dataloader_args)\n",
    "\n",
    "val_dataloader_args = {'batch_size':1, 'shuffle':False}\n",
    "val_dataloader = data.DataLoader(val_interface, **val_dataloader_args)"
   ]
  },
  {
   "cell_type": "code",
   "execution_count": null,
   "id": "dbf53d7d",
   "metadata": {},
   "outputs": [],
   "source": [
    "device = torch.device('cpu')\n",
    "if torch.cuda.is_available():\n",
    "    device = torch.device('cuda')\n",
    "\n",
    "print(f'Available device: {device}')"
   ]
  },
  {
   "cell_type": "code",
   "execution_count": 4,
   "id": "401e015a",
   "metadata": {},
   "outputs": [],
   "source": [
    "faster_rcnn = load_faster_rcnn()"
   ]
  },
  {
   "cell_type": "code",
   "execution_count": null,
   "id": "9648bb33",
   "metadata": {},
   "outputs": [],
   "source": [
    "optimizer_pars = {'lr':1e-5, 'weight_decay':1e-3}\n",
    "optimizer = torch.optim.Adam(list(frcnn_model.parameters()),**optimizer_pars)\n",
    "total_epoch = 1"
   ]
  },
  {
   "cell_type": "code",
   "execution_count": null,
   "id": "9d1837df",
   "metadata": {},
   "outputs": [],
   "source": [
    "training_param = {\n",
    "    \"model\": faster_rcnn,\n",
    "    \"train_loader\": train_dataloader, \n",
    "    \"val_loader\": val_dataloader,\n",
    "    \"optimizer\": optimizer, \n",
    "    \"epochs\": total_epoch,\n",
    "    \"device\": device,\n",
    "    \"checkpoint_path\": './model/model_1', \n",
    "    \"load_checkpoint\": None\n",
    "}\n",
    "training_loss, validation_loss = train_model()"
   ]
  }
 ],
 "metadata": {
  "kernelspec": {
   "display_name": "Python [conda env:ailab] *",
   "language": "python",
   "name": "conda-env-ailab-py"
  },
  "language_info": {
   "codemirror_mode": {
    "name": "ipython",
    "version": 3
   },
   "file_extension": ".py",
   "mimetype": "text/x-python",
   "name": "python",
   "nbconvert_exporter": "python",
   "pygments_lexer": "ipython3",
   "version": "3.7.11"
  }
 },
 "nbformat": 4,
 "nbformat_minor": 5
}
