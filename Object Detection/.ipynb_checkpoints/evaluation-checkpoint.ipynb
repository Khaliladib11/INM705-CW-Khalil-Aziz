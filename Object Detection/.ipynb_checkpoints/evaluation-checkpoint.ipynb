{
 "cells": [
  {
   "cell_type": "markdown",
   "id": "92844724",
   "metadata": {},
   "source": [
    "# Evaluation Notebook"
   ]
  },
  {
   "cell_type": "markdown",
   "id": "ce5bad3d",
   "metadata": {},
   "source": [
    "## Import Libraries"
   ]
  },
  {
   "cell_type": "code",
   "execution_count": 1,
   "id": "0bc9c395",
   "metadata": {},
   "outputs": [],
   "source": [
    "from MSCOCO import MSCOCO\n",
    "from utils import *\n",
    "from torch.utils import data\n",
    "import random\n",
    "from PIL import Image"
   ]
  },
  {
   "cell_type": "markdown",
   "id": "50076a9b",
   "metadata": {},
   "source": [
    "## Load Dataset Interface and DataLoader"
   ]
  },
  {
   "cell_type": "code",
   "execution_count": null,
   "id": "fefa1f08",
   "metadata": {},
   "outputs": [],
   "source": [
    "coco_classes, coco_object_categories = load_coco_classes('./mscoco_labels.txt')"
   ]
  },
  {
   "cell_type": "code",
   "execution_count": null,
   "id": "0ab47935",
   "metadata": {},
   "outputs": [],
   "source": [
    "root_path = 'coco'\n",
    "json_annotations = './json files/train_annotation.json'\n",
    "target_classes = ['__bgr__', 'person', 'car']\n",
    "\n",
    "test_interface_params = {\n",
    "    'root_path': root_path,\n",
    "    'list_of_classes': coco_classes,\n",
    "    'target_classes': target_classes,\n",
    "    'stage': 'test',\n",
    "}\n",
    "\n",
    "test_interface = MSCOCO(**test_interface_params)\n",
    "\n",
    "test_dataloader_args = {'batch_size':1, 'shuffle':True}\n",
    "test_dataloader = data.DataLoader(test_interface, **test_dataloader_args)\n",
    "\n",
    "print(f\"Test Loader Length: {len(test_dataloader)}\")"
   ]
  },
  {
   "cell_type": "code",
   "execution_count": null,
   "id": "2b49f061",
   "metadata": {},
   "outputs": [],
   "source": [
    "device = torch.device('cpu')\n",
    "if torch.cuda.is_available():\n",
    "    device = torch.device('cuda')\n",
    "\n",
    "print(f'Available device: {device}')"
   ]
  },
  {
   "cell_type": "markdown",
   "id": "4cb3de8b",
   "metadata": {},
   "source": [
    "## Load the model"
   ]
  },
  {
   "cell_type": "code",
   "execution_count": null,
   "id": "a2a0a83f",
   "metadata": {},
   "outputs": [],
   "source": [
    "faster_rcnn_params = {\n",
    "   \"backbone\":\"resnet50\",\n",
    "    \"num_classes\": 3,\n",
    "    \"pretrained\": True,\n",
    "    \"pretrained_backbone\": True,\n",
    "    \"model_path\": None \n",
    "}\n",
    "faster_rcnn_50 = load_faster_rcnn(**faster_rcnn_params)\n",
    "\n",
    "checkpoint_path = './models/model_backbone50'\n",
    "epoch_50, model_50, training_loss_50 = load_model(faster_rcnn_50, checkpoint_path)"
   ]
  },
  {
   "cell_type": "code",
   "execution_count": null,
   "id": "a598813a",
   "metadata": {},
   "outputs": [],
   "source": [
    "faster_rcnn_params = {\n",
    "   \"backbone\":\"resnet101\",\n",
    "    \"num_classes\": 3,\n",
    "    \"pretrained\": True,\n",
    "    \"pretrained_backbone\": True,\n",
    "    \"model_path\": None \n",
    "}\n",
    "faster_rcnn_101 = load_faster_rcnn(**faster_rcnn_params)\n",
    "\n",
    "checkpoint_path = './models/model_backbone101'\n",
    "epoch_101, model_101, training_loss_101 = load_model(faster_rcnn_101, checkpoint_path)"
   ]
  },
  {
   "cell_type": "code",
   "execution_count": null,
   "id": "d7796e7b",
   "metadata": {},
   "outputs": [],
   "source": [
    "faster_rcnn_params = {\n",
    "   \"backbone\":\"resnet152\",\n",
    "    \"num_classes\": 3,\n",
    "    \"pretrained\": True,\n",
    "    \"pretrained_backbone\": True,\n",
    "    \"model_path\": None \n",
    "}\n",
    "faster_rcnn_152 = load_faster_rcnn(**faster_rcnn_params)\n",
    "\n",
    "checkpoint_path = './models/model_backbone152'\n",
    "epoch_152, model_152, training_loss_152 = load_model(faster_rcnn_152, checkpoint_path)"
   ]
  },
  {
   "cell_type": "code",
   "execution_count": null,
   "id": "9786f19a",
   "metadata": {},
   "outputs": [],
   "source": [
    "plt.plot(training_loss_50, label=\"Resnet50 Backbone\")\n",
    "plt.plot(training_loss_101, label=\"Resnet101 Backbone\")\n",
    "plt.plot(training_loss_152, label=\"Resnet152 Backbone\")\n",
    "plt.legend(loc='upper right')\n",
    "plt.title('Comparing Object Detection with different Resnet backbone')\n",
    "plt.xlabel('Epochs')\n",
    "plt.ylabel('Loss')\n",
    "plt.grid(True)\n",
    "plt.show()"
   ]
  },
  {
   "cell_type": "markdown",
   "id": "f5d5e78d",
   "metadata": {},
   "source": [
    "## Evaluation"
   ]
  },
  {
   "cell_type": "code",
   "execution_count": null,
   "id": "9c00e708",
   "metadata": {},
   "outputs": [],
   "source": [
    "mAP = evaluate_mAP(model, test_dataloader, device)\n",
    "print(mAP)"
   ]
  }
 ],
 "metadata": {
  "kernelspec": {
   "display_name": "Python [conda env:ailab] *",
   "language": "python",
   "name": "conda-env-ailab-py"
  },
  "language_info": {
   "codemirror_mode": {
    "name": "ipython",
    "version": 3
   },
   "file_extension": ".py",
   "mimetype": "text/x-python",
   "name": "python",
   "nbconvert_exporter": "python",
   "pygments_lexer": "ipython3",
   "version": "3.7.11"
  }
 },
 "nbformat": 4,
 "nbformat_minor": 5
}
