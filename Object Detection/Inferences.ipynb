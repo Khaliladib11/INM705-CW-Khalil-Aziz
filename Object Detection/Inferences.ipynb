{
 "cells": [
  {
   "cell_type": "markdown",
   "id": "683c753d",
   "metadata": {},
   "source": [
    "# Inferences "
   ]
  },
  {
   "cell_type": "markdown",
   "id": "5d4ccfac",
   "metadata": {},
   "source": [
    "## Import Libraries"
   ]
  },
  {
   "cell_type": "code",
   "execution_count": null,
   "id": "fdce577e",
   "metadata": {},
   "outputs": [],
   "source": [
    "from MSCOCO import MSCOCO\n",
    "from utils import *\n",
    "from torch.utils import data\n",
    "import random\n",
    "from PIL import Image"
   ]
  },
  {
   "cell_type": "markdown",
   "id": "e30d8152",
   "metadata": {},
   "source": [
    "## Load Dataset Interface and DataLoader"
   ]
  },
  {
   "cell_type": "code",
   "execution_count": null,
   "id": "6526f0ef",
   "metadata": {},
   "outputs": [],
   "source": [
    "coco_classes, coco_object_categories = load_coco_classes('./mscoco_labels.txt')"
   ]
  },
  {
   "cell_type": "code",
   "execution_count": null,
   "id": "3a4bbbee",
   "metadata": {},
   "outputs": [],
   "source": [
    "root_path = '../../../Datasets/MS COCO'\n",
    "json_annotations = './json files/train_annotation.json'\n",
    "target_classes = ['__bgr__', 'person', 'car']\n",
    "\n",
    "test_interface_params = {\n",
    "    'root_path': root_path,\n",
    "    'list_of_classes': coco_classes,\n",
    "    'target_classes': target_classes,\n",
    "    'stage': 'test',\n",
    "}\n",
    "\n",
    "test_interface = MSCOCO(**test_interface_params)\n",
    "\n",
    "test_dataloader_args = {'batch_size':1, 'shuffle':True}\n",
    "test_dataloader = data.DataLoader(test_interface, **test_dataloader_args)\n",
    "\n",
    "print(f\"Test Loader Length: {len(test_dataloader)}\")"
   ]
  },
  {
   "cell_type": "code",
   "execution_count": null,
   "id": "0c03967c",
   "metadata": {},
   "outputs": [],
   "source": [
    "device = torch.device('cpu')\n",
    "if torch.cuda.is_available():\n",
    "    device = torch.device('cuda')\n",
    "\n",
    "print(f'Available device: {device}')"
   ]
  },
  {
   "cell_type": "markdown",
   "id": "53d560be",
   "metadata": {},
   "source": [
    "## Load the model"
   ]
  },
  {
   "cell_type": "code",
   "execution_count": null,
   "id": "f5716916",
   "metadata": {},
   "outputs": [],
   "source": [
    "faster_rcnn_params = {\n",
    "   \"backbone\":\"resnet101\",\n",
    "    \"num_classes\": 3,\n",
    "    \"pretrained\": True,\n",
    "    \"pretrained_backbone\": True,\n",
    "    \"model_path\": None \n",
    "}\n",
    "faster_rcnn = load_faster_rcnn(**faster_rcnn_params)"
   ]
  },
  {
   "cell_type": "code",
   "execution_count": null,
   "id": "898d60ef",
   "metadata": {},
   "outputs": [],
   "source": [
    "checkpoint_path = './models/model_v1'\n",
    "epoch, model, training_loss, _ = load_model(faster_rcnn, checkpoint_path)"
   ]
  },
  {
   "cell_type": "code",
   "execution_count": null,
   "id": "2d28edc6",
   "metadata": {},
   "outputs": [],
   "source": [
    "random_idx = random.randint(0, len(test_interface))\n",
    "#print(test_interface.imgs[random_idx])\n",
    "image = Image.open(os.path.join('coco/images', 'val2017', test_interface.imgs[random_idx]))\n",
    "#image = Image.open('./wado.jpeg')\n",
    "predict(model, image, target_classes, device)"
   ]
  }
 ],
 "metadata": {
  "kernelspec": {
   "display_name": "Python [conda env:ailab] *",
   "language": "python",
   "name": "conda-env-ailab-py"
  },
  "language_info": {
   "codemirror_mode": {
    "name": "ipython",
    "version": 3
   },
   "file_extension": ".py",
   "mimetype": "text/x-python",
   "name": "python",
   "nbconvert_exporter": "python",
   "pygments_lexer": "ipython3",
   "version": "3.7.11"
  }
 },
 "nbformat": 4,
 "nbformat_minor": 5
}
