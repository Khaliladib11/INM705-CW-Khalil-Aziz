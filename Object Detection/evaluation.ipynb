{
 "cells": [
  {
   "cell_type": "markdown",
   "id": "92844724",
   "metadata": {},
   "source": [
    "# Evaluation Notebook"
   ]
  },
  {
   "cell_type": "markdown",
   "id": "ce5bad3d",
   "metadata": {},
   "source": [
    "## Import Libraries"
   ]
  },
  {
   "cell_type": "code",
   "execution_count": 1,
   "id": "0bc9c395",
   "metadata": {},
   "outputs": [],
   "source": [
    "from MSCOCO import MSCOCO\n",
    "from utils import *\n",
    "from torch.utils import data\n",
    "import random\n",
    "from PIL import Image"
   ]
  },
  {
   "cell_type": "markdown",
   "id": "50076a9b",
   "metadata": {},
   "source": [
    "## Load Dataset Interface and DataLoader"
   ]
  },
  {
   "cell_type": "code",
   "execution_count": null,
   "id": "fefa1f08",
   "metadata": {},
   "outputs": [],
   "source": [
    "coco_classes, coco_object_categories = load_coco_classes('./mscoco_labels.txt')"
   ]
  },
  {
   "cell_type": "code",
   "execution_count": null,
   "id": "0ab47935",
   "metadata": {},
   "outputs": [],
   "source": [
    "root_path = 'coco'\n",
    "json_annotations = './json files/train_annotation.json'\n",
    "target_classes = ['__bgr__', 'person', 'car']\n",
    "\n",
    "test_interface_params = {\n",
    "    'root_path': root_path,\n",
    "    'list_of_classes': coco_classes,\n",
    "    'target_classes': target_classes,\n",
    "    'stage': 'test',\n",
    "}\n",
    "\n",
    "test_interface = MSCOCO(**test_interface_params)\n",
    "\n",
    "test_dataloader_args = {'batch_size':1, 'shuffle':True}\n",
    "test_dataloader = data.DataLoader(test_interface, **test_dataloader_args)\n",
    "\n",
    "print(f\"Test Loader Length: {len(test_dataloader)}\")"
   ]
  },
  {
   "cell_type": "code",
   "execution_count": null,
   "id": "2b49f061",
   "metadata": {},
   "outputs": [],
   "source": [
    "device = torch.device('cpu')\n",
    "if torch.cuda.is_available():\n",
    "    device = torch.device('cuda')\n",
    "\n",
    "print(f'Available device: {device}')"
   ]
  },
  {
   "cell_type": "markdown",
   "id": "4cb3de8b",
   "metadata": {},
   "source": [
    "## Load the model"
   ]
  },
  {
   "cell_type": "code",
   "execution_count": null,
   "id": "a2a0a83f",
   "metadata": {},
   "outputs": [],
   "source": [
    "faster_rcnn_params = {\n",
    "   \"backbone\":\"resnet101\",\n",
    "    \"num_classes\": 3,\n",
    "    \"pretrained\": True,\n",
    "    \"pretrained_backbone\": True,\n",
    "    \"model_path\": None \n",
    "}\n",
    "faster_rcnn = load_faster_rcnn(**faster_rcnn_params)"
   ]
  },
  {
   "cell_type": "code",
   "execution_count": null,
   "id": "a598813a",
   "metadata": {},
   "outputs": [],
   "source": [
    "checkpoint_path = './models/model_v1'\n",
    "epoch, model, training_loss, validation_loss = load_model(faster_rcnn, checkpoint_path)"
   ]
  },
  {
   "cell_type": "markdown",
   "id": "3efe8feb",
   "metadata": {},
   "source": [
    "## inferences"
   ]
  },
  {
   "cell_type": "code",
   "execution_count": null,
   "id": "38d809cb",
   "metadata": {},
   "outputs": [],
   "source": [
    "plot_loss(training_loss, validation_loss)"
   ]
  },
  {
   "cell_type": "code",
   "execution_count": null,
   "id": "dba87f8e",
   "metadata": {},
   "outputs": [],
   "source": [
    "images = os.listdir(os.path.join('coco/images', 'val2017'))"
   ]
  },
  {
   "cell_type": "code",
   "execution_count": null,
   "id": "e8b1f853",
   "metadata": {},
   "outputs": [],
   "source": [
    "random_idx = random.randint(0, len(images))\n",
    "image = Image.open(os.path.join('coco/images', 'val2017', images[random_idx]))\n",
    "#image = Image.open('./wado.jpeg')\n",
    "predict(faster_rcnn, image, target_classes, device)"
   ]
  }
 ],
 "metadata": {
  "kernelspec": {
   "display_name": "Python [conda env:ailab] *",
   "language": "python",
   "name": "conda-env-ailab-py"
  },
  "language_info": {
   "codemirror_mode": {
    "name": "ipython",
    "version": 3
   },
   "file_extension": ".py",
   "mimetype": "text/x-python",
   "name": "python",
   "nbconvert_exporter": "python",
   "pygments_lexer": "ipython3",
   "version": "3.7.11"
  }
 },
 "nbformat": 4,
 "nbformat_minor": 5
}
